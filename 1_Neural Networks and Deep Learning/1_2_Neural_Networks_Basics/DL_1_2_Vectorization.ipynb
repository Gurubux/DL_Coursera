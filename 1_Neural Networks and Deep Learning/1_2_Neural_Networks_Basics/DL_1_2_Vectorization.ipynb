{
  "nbformat": 4,
  "nbformat_minor": 0,
  "metadata": {
    "colab": {
      "name": "DL_1_2_Vectorization.ipynb",
      "version": "0.3.2",
      "provenance": [],
      "collapsed_sections": []
    },
    "kernelspec": {
      "name": "python3",
      "display_name": "Python 3"
    }
  },
  "cells": [
    {
      "cell_type": "markdown",
      "metadata": {
        "id": "lBHEVRbp9HMZ",
        "colab_type": "text"
      },
      "source": [
        "# 1 - Neural Network and Deep learning"
      ]
    },
    {
      "cell_type": "markdown",
      "metadata": {
        "id": "_M_po3Tz8nOQ",
        "colab_type": "text"
      },
      "source": [
        "## 2.11 Vectorization"
      ]
    },
    {
      "cell_type": "code",
      "metadata": {
        "id": "bWz-h3ZW5cvW",
        "colab_type": "code",
        "colab": {
          "base_uri": "https://localhost:8080/",
          "height": 34
        },
        "outputId": "f051050b-7ab6-4b2b-a61a-d249975b1370"
      },
      "source": [
        "import numpy as np\n",
        "a = np.array([1,2,3,4])\n",
        "a"
      ],
      "execution_count": 2,
      "outputs": [
        {
          "output_type": "execute_result",
          "data": {
            "text/plain": [
              "array([1, 2, 3, 4])"
            ]
          },
          "metadata": {
            "tags": []
          },
          "execution_count": 2
        }
      ]
    },
    {
      "cell_type": "code",
      "metadata": {
        "id": "sYTWLlEA6BUJ",
        "colab_type": "code",
        "colab": {
          "base_uri": "https://localhost:8080/",
          "height": 87
        },
        "outputId": "b50f9366-43c3-446b-81f3-639372af2d07"
      },
      "source": [
        "import time\n",
        "\n",
        "a = np.random.rand(1000000)\n",
        "b = np.random.rand(1000000)\n",
        "\n",
        "tic = time.time()\n",
        "c = np.dot(a,b)\n",
        "toc = time.time()\n",
        "print(\"Vectorized Version :\",(toc-tic)*1000 , \" ms\")\n",
        "print(c)\n",
        "c = 0\n",
        "tic =time.time()\n",
        "for i in range(1000000):\n",
        "  c += a[i]*b[i]\n",
        "toc = time.time()\n",
        "print(c)\n",
        "print(\"For loop: \", 1000*(toc-tic),\" ms\")\n"
      ],
      "execution_count": 15,
      "outputs": [
        {
          "output_type": "stream",
          "text": [
            "Vectorized Version : 1.6467571258544922  ms\n",
            "250225.8808077512\n",
            "250225.88080774745\n",
            "For loop:  485.776424407959  ms\n"
          ],
          "name": "stdout"
        }
      ]
    },
    {
      "cell_type": "code",
      "metadata": {
        "id": "tSXkUhlH61Ii",
        "colab_type": "code",
        "colab": {}
      },
      "source": [
        ""
      ],
      "execution_count": 0,
      "outputs": []
    }
  ]
}