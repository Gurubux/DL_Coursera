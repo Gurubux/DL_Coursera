{
  "nbformat": 4,
  "nbformat_minor": 0,
  "metadata": {
    "colab": {
      "name": "PracticeTensorflow.ipynb",
      "version": "0.3.2",
      "provenance": [],
      "collapsed_sections": []
    },
    "kernelspec": {
      "name": "python3",
      "display_name": "Python 3"
    }
  },
  "cells": [
    {
      "cell_type": "code",
      "metadata": {
        "id": "R7A9vksP7SUT",
        "colab_type": "code",
        "colab": {}
      },
      "source": [
        "import numpy as np\n",
        "import tensorflow as tf"
      ],
      "execution_count": 0,
      "outputs": []
    },
    {
      "cell_type": "code",
      "metadata": {
        "id": "v9yqejS9_Rm9",
        "colab_type": "code",
        "colab": {
          "base_uri": "https://localhost:8080/",
          "height": 143
        },
        "outputId": "84c4a6d4-3e55-4002-eb02-d092b44422a2"
      },
      "source": [
        "#coefficients= np.array([[1.,1.,1.,1.,1.,1.],[-4.,-6.,-8.,-10.,-12.,-20],[4.,9.,16.,25.,36.,100.]])\n",
        "coefficients= np.array([[1.,1.,1.,1.,1.,1.],[-4.,-6.,-8.,-10.,-12.,-20],[4.,9.,16.,25.,36.,100.]])\n",
        "w = tf.Variable([[0.,0.,0.,0.,0.,0.]],dtype = tf.float32)\n",
        "x = tf.placeholder(tf.float32,[3,6])\n",
        "\n",
        "print(x,w)\n",
        "#cost = tf.add(tf.add(w**2,tf.multiply(-10., w)),25)\n",
        "cost = w**2 -4*w + 4.\n",
        "for i in range(6):\n",
        "    cost = cost + x[0][i]*w[0][i]**2 + x[1][i]*w[0][i] + x[2][i]\n",
        "#cost = cost + x[0]*w**2 + x[1]*w + x[2]\n",
        "train = tf.train.GradientDescentOptimizer(0.01).minimize(cost)\n",
        "\n",
        "init = tf.global_variables_initializer()\n",
        "session = tf.Session()\n",
        "session.run(init)\n",
        "print(session.run(w))"
      ],
      "execution_count": 2,
      "outputs": [
        {
          "output_type": "stream",
          "text": [
            "Tensor(\"Placeholder:0\", shape=(3, 6), dtype=float32) <tf.Variable 'Variable:0' shape=(1, 6) dtype=float32_ref>\n"
          ],
          "name": "stdout"
        },
        {
          "output_type": "stream",
          "text": [
            "WARNING: Logging before flag parsing goes to stderr.\n",
            "W0801 06:11:44.889851 139949540587392 deprecation.py:323] From /usr/local/lib/python3.6/dist-packages/tensorflow/python/ops/math_grad.py:1205: add_dispatch_support.<locals>.wrapper (from tensorflow.python.ops.array_ops) is deprecated and will be removed in a future version.\n",
            "Instructions for updating:\n",
            "Use tf.where in 2.0, which has the same broadcast rule as np.where\n"
          ],
          "name": "stderr"
        },
        {
          "output_type": "stream",
          "text": [
            "[[0. 0. 0. 0. 0. 0.]]\n"
          ],
          "name": "stdout"
        }
      ]
    },
    {
      "cell_type": "code",
      "metadata": {
        "id": "W9d3P5cO_Qx2",
        "colab_type": "code",
        "outputId": "6f27646f-2732-4fdf-a5f4-c18339d5a651",
        "colab": {
          "base_uri": "https://localhost:8080/",
          "height": 34
        }
      },
      "source": [
        "session.run(train, feed_dict={x:coefficients})\n",
        "print(session.run(w))"
      ],
      "execution_count": 3,
      "outputs": [
        {
          "output_type": "stream",
          "text": [
            "[[0.28       0.39999998 0.52       0.64       0.76       1.24      ]]\n"
          ],
          "name": "stdout"
        }
      ]
    },
    {
      "cell_type": "code",
      "metadata": {
        "id": "VNv568908JBE",
        "colab_type": "code",
        "outputId": "c9bc60e6-8ee7-41df-9647-0232c313d006",
        "colab": {
          "base_uri": "https://localhost:8080/",
          "height": 34
        }
      },
      "source": [
        "for i in range(1000):\n",
        "    session.run(train, feed_dict={x:coefficients})\n",
        "print(session.run(w))"
      ],
      "execution_count": 4,
      "outputs": [
        {
          "output_type": "stream",
          "text": [
            "[[1.9999996 2.857142  3.714285  4.571427  5.42857   8.85714  ]]\n"
          ],
          "name": "stdout"
        }
      ]
    }
  ]
}